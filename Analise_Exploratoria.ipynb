{
  "nbformat": 4,
  "nbformat_minor": 0,
  "metadata": {
    "colab": {
      "name": "Analise Exploratoria.ipynb",
      "provenance": [],
      "collapsed_sections": [],
      "authorship_tag": "ABX9TyNRCfks4JsJfUKlUUf11VzH",
      "include_colab_link": true
    },
    "kernelspec": {
      "name": "python3",
      "display_name": "Python 3"
    },
    "language_info": {
      "name": "python"
    }
  },
  "cells": [
    {
      "cell_type": "markdown",
      "metadata": {
        "id": "view-in-github",
        "colab_type": "text"
      },
      "source": [
        "<a href=\"https://colab.research.google.com/github/AbilioNB/datawizards/blob/main/Analise_Exploratoria.ipynb\" target=\"_parent\"><img src=\"https://colab.research.google.com/assets/colab-badge.svg\" alt=\"Open In Colab\"/></a>"
      ]
    },
    {
      "cell_type": "markdown",
      "metadata": {
        "id": "VECc6Y1tEMP-"
      },
      "source": [
        "## Imports"
      ]
    },
    {
      "cell_type": "code",
      "metadata": {
        "id": "H6v_2g1aEBcr"
      },
      "source": [
        "import pandas as pd"
      ],
      "execution_count": null,
      "outputs": []
    },
    {
      "cell_type": "markdown",
      "metadata": {
        "id": "tGYcBoZpGLiq"
      },
      "source": [
        "## Carregamento da base"
      ]
    },
    {
      "cell_type": "code",
      "metadata": {
        "id": "e90Pt_7oEK2S"
      },
      "source": [
        "fato_results = pd.read_csv(\"https://raw.githubusercontent.com/AbilioNB/datawizards/main/DW/FACT_RESULT.csv\")\n",
        "dim_circuits = pd.read_csv(\"https://raw.githubusercontent.com/AbilioNB/datawizards/main/DW/FACT_RESULT.csv\")\n",
        "dim_constructors = pd.read_csv(\"https://raw.githubusercontent.com/AbilioNB/datawizards/main/DW/DIM_CONSTRUCTORS.CSV\")\n",
        "dim_drivers = pd.read_csv(\"https://raw.githubusercontent.com/AbilioNB/datawizards/main/DW/DIM_DRIVERS.CSV\",encoding=\"ISO-8859-1\")\n",
        "dim_races = pd.read_csv(\"https://raw.githubusercontent.com/AbilioNB/datawizards/main/DW/DIM_RACES.CSV\")"
      ],
      "execution_count": null,
      "outputs": []
    },
    {
      "cell_type": "code",
      "metadata": {
        "id": "0ZWK-6RMEqyY"
      },
      "source": [
        ""
      ],
      "execution_count": null,
      "outputs": []
    },
    {
      "cell_type": "markdown",
      "metadata": {
        "id": "ih8huRHfGYmM"
      },
      "source": [
        "## Analise exploratoria dos dados "
      ]
    },
    {
      "cell_type": "code",
      "metadata": {
        "id": "S_hynWhyErp2"
      },
      "source": [
        ""
      ],
      "execution_count": null,
      "outputs": []
    }
  ]
}