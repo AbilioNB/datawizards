{
  "nbformat": 4,
  "nbformat_minor": 0,
  "metadata": {
    "colab": {
      "name": "Notebook Final.ipynb",
      "provenance": [],
      "authorship_tag": "ABX9TyMM2WCe03khGLp9m+usL0eh",
      "include_colab_link": true
    },
    "kernelspec": {
      "name": "python3",
      "display_name": "Python 3"
    },
    "language_info": {
      "name": "python"
    }
  },
  "cells": [
    {
      "cell_type": "markdown",
      "metadata": {
        "id": "view-in-github",
        "colab_type": "text"
      },
      "source": [
        "<a href=\"https://colab.research.google.com/github/AbilioNB/datawizards/blob/main/Notebook_Final.ipynb\" target=\"_parent\"><img src=\"https://colab.research.google.com/assets/colab-badge.svg\" alt=\"Open In Colab\"/></a>"
      ]
    },
    {
      "cell_type": "markdown",
      "metadata": {
        "id": "kr4AxQM_XFa2"
      },
      "source": [
        "# Apresentacação do Projeto"
      ]
    },
    {
      "cell_type": "markdown",
      "metadata": {
        "id": "v3Wa7QyqXplK"
      },
      "source": [
        "## Import de bliblioteca e Arquivos "
      ]
    },
    {
      "cell_type": "markdown",
      "metadata": {
        "id": "LmfcmN6aX2UG"
      },
      "source": [
        "### Blibliotecas"
      ]
    },
    {
      "cell_type": "code",
      "metadata": {
        "id": "pbZTRxhfXE8i"
      },
      "source": [
        ""
      ],
      "execution_count": null,
      "outputs": []
    },
    {
      "cell_type": "markdown",
      "metadata": {
        "id": "a3lsacdWX5Kf"
      },
      "source": [
        "### Arquivos e Bases"
      ]
    },
    {
      "cell_type": "code",
      "metadata": {
        "id": "0Tqz5M4cX7-9"
      },
      "source": [
        ""
      ],
      "execution_count": null,
      "outputs": []
    },
    {
      "cell_type": "code",
      "metadata": {
        "id": "zzN3hujSYC3s"
      },
      "source": [
        ""
      ],
      "execution_count": null,
      "outputs": []
    },
    {
      "cell_type": "markdown",
      "metadata": {
        "id": "n5yYfXl2YCXl"
      },
      "source": [
        "## Realizando o processamento da base"
      ]
    },
    {
      "cell_type": "markdown",
      "metadata": {
        "id": "4PSrpui8YIiY"
      },
      "source": [
        "### Unindo as bases "
      ]
    },
    {
      "cell_type": "code",
      "metadata": {
        "id": "gTOEsqwoYIC-"
      },
      "source": [
        ""
      ],
      "execution_count": null,
      "outputs": []
    },
    {
      "cell_type": "markdown",
      "metadata": {
        "id": "zP4uhmHbYL9I"
      },
      "source": [
        "### Removendo dados nulos "
      ]
    },
    {
      "cell_type": "code",
      "metadata": {
        "id": "8l9QeJU4YOW1"
      },
      "source": [
        ""
      ],
      "execution_count": null,
      "outputs": []
    },
    {
      "cell_type": "markdown",
      "metadata": {
        "id": "4T1bMPbgYO20"
      },
      "source": [
        "### Removendo colunas não utilizadas"
      ]
    },
    {
      "cell_type": "code",
      "metadata": {
        "id": "2FWwcmMzYRjb"
      },
      "source": [
        ""
      ],
      "execution_count": null,
      "outputs": []
    },
    {
      "cell_type": "markdown",
      "metadata": {
        "id": "MmcCUOsZYSUN"
      },
      "source": [
        "## Análises "
      ]
    },
    {
      "cell_type": "code",
      "metadata": {
        "id": "fwMGydVJYgmy"
      },
      "source": [
        ""
      ],
      "execution_count": null,
      "outputs": []
    },
    {
      "cell_type": "markdown",
      "metadata": {
        "id": "X7XY2DFDYhLP"
      },
      "source": [
        "### Pergunta 1"
      ]
    },
    {
      "cell_type": "code",
      "metadata": {
        "id": "ubygbuGIYiMX"
      },
      "source": [
        ""
      ],
      "execution_count": null,
      "outputs": []
    },
    {
      "cell_type": "markdown",
      "metadata": {
        "id": "4nfvd7FbYik2"
      },
      "source": [
        "### Pergunta 2"
      ]
    },
    {
      "cell_type": "code",
      "metadata": {
        "id": "M-r60NxRYjtg"
      },
      "source": [
        ""
      ],
      "execution_count": null,
      "outputs": []
    }
  ]
}